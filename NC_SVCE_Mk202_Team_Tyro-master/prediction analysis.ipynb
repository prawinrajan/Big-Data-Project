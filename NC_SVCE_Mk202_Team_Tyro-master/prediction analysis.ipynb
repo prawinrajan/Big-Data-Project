{
  "nbformat": 4,
  "nbformat_minor": 0,
  "metadata": {
    "kernelspec": {
      "display_name": "Python 3",
      "language": "python",
      "name": "python3"
    },
    "language_info": {
      "codemirror_mode": {
        "name": "ipython",
        "version": 3
      },
      "file_extension": ".py",
      "mimetype": "text/x-python",
      "name": "python",
      "nbconvert_exporter": "python",
      "pygments_lexer": "ipython3",
      "version": "3.7.3"
    },
    "colab": {
      "name": "Navie_bayes_after_cleaning_heart.ipynb",
      "provenance": []
    }
  },
  "cells": [
    {
      "cell_type": "code",
      "metadata": {
        "id": "BOp_KdkXDwkY",
        "colab_type": "code",
        "colab": {
          "base_uri": "https://localhost:8080/",
          "height": 51
        },
        "outputId": "60f1792e-a1a5-488a-9fab-f4e3966fc195"
      },
      "source": [
        "import datetime\n",
        "print(datetime.datetime.now())\n",
        "import sys\n",
        "import scipy\n",
        "import numpy\n",
        "import matplotlib\n",
        "import pandas\n",
        "import sklearn\n",
        "\n",
        "import numpy as np\n",
        "from sklearn import model_selection\n",
        "from sklearn.metrics import classification_report\n",
        "from sklearn.metrics import accuracy_score\n",
        "from pandas.plotting import scatter_matrix\n",
        "import matplotlib.pyplot as plt\n",
        "import pandas as pd\n",
        "from sklearn import preprocessing\n",
        "\n",
        "\n",
        "df = pd.read_csv(\"/content/fulldata.csv\")\n",
        "\n",
        "print(df.shape)"
      ],
      "execution_count": 1,
      "outputs": [
        {
          "output_type": "stream",
          "text": [
            "2020-08-03 11:23:26.234085\n",
            "(758, 12)\n"
          ],
          "name": "stdout"
        }
      ]
    },
    {
      "cell_type": "code",
      "metadata": {
        "id": "BvGd_MK7Dwkm",
        "colab_type": "code",
        "colab": {
          "base_uri": "https://localhost:8080/",
          "height": 340
        },
        "outputId": "8643159e-955d-4cdc-e301-a75bfc294961"
      },
      "source": [
        "df.head() "
      ],
      "execution_count": 2,
      "outputs": [
        {
          "output_type": "execute_result",
          "data": {
            "text/html": [
              "<div>\n",
              "<style scoped>\n",
              "    .dataframe tbody tr th:only-of-type {\n",
              "        vertical-align: middle;\n",
              "    }\n",
              "\n",
              "    .dataframe tbody tr th {\n",
              "        vertical-align: top;\n",
              "    }\n",
              "\n",
              "    .dataframe thead th {\n",
              "        text-align: right;\n",
              "    }\n",
              "</style>\n",
              "<table border=\"1\" class=\"dataframe\">\n",
              "  <thead>\n",
              "    <tr style=\"text-align: right;\">\n",
              "      <th></th>\n",
              "      <th>State Name</th>\n",
              "      <th>Block Name</th>\n",
              "      <th>Total households applied for job card</th>\n",
              "      <th>Total job cards issued</th>\n",
              "      <th>Total job cards (SC)</th>\n",
              "      <th>Total job cards (ST)</th>\n",
              "      <th>Total job cards (non-SC/ST)</th>\n",
              "      <th>Total households demanded work</th>\n",
              "      <th>Total persons demanded work</th>\n",
              "      <th>Total households allotted work</th>\n",
              "      <th>Total persons allotted work</th>\n",
              "      <th>District Name</th>\n",
              "    </tr>\n",
              "  </thead>\n",
              "  <tbody>\n",
              "    <tr>\n",
              "      <th>0</th>\n",
              "      <td>TAMIL NADU</td>\n",
              "      <td>ANDIMADAM</td>\n",
              "      <td>30425</td>\n",
              "      <td>29627</td>\n",
              "      <td>4898</td>\n",
              "      <td>173</td>\n",
              "      <td>24556</td>\n",
              "      <td>27648</td>\n",
              "      <td>36178</td>\n",
              "      <td>27648</td>\n",
              "      <td>36176.0</td>\n",
              "      <td>ARIYALUR</td>\n",
              "    </tr>\n",
              "    <tr>\n",
              "      <th>1</th>\n",
              "      <td>TAMIL NADU</td>\n",
              "      <td>ARIYALUR</td>\n",
              "      <td>23318</td>\n",
              "      <td>23310</td>\n",
              "      <td>4359</td>\n",
              "      <td>80</td>\n",
              "      <td>18871</td>\n",
              "      <td>20547</td>\n",
              "      <td>31770</td>\n",
              "      <td>20547</td>\n",
              "      <td>31768.0</td>\n",
              "      <td>ARIYALUR</td>\n",
              "    </tr>\n",
              "    <tr>\n",
              "      <th>2</th>\n",
              "      <td>TAMIL NADU</td>\n",
              "      <td>JAYAMKONDAM</td>\n",
              "      <td>35821</td>\n",
              "      <td>35675</td>\n",
              "      <td>6941</td>\n",
              "      <td>701</td>\n",
              "      <td>28033</td>\n",
              "      <td>30558</td>\n",
              "      <td>49993</td>\n",
              "      <td>30558</td>\n",
              "      <td>49993.0</td>\n",
              "      <td>ARIYALUR</td>\n",
              "    </tr>\n",
              "    <tr>\n",
              "      <th>3</th>\n",
              "      <td>TAMIL NADU</td>\n",
              "      <td>SENDURAI</td>\n",
              "      <td>36900</td>\n",
              "      <td>35608</td>\n",
              "      <td>7969</td>\n",
              "      <td>202</td>\n",
              "      <td>27437</td>\n",
              "      <td>29794</td>\n",
              "      <td>34672</td>\n",
              "      <td>29750</td>\n",
              "      <td>34615.0</td>\n",
              "      <td>ARIYALUR</td>\n",
              "    </tr>\n",
              "    <tr>\n",
              "      <th>4</th>\n",
              "      <td>TAMIL NADU</td>\n",
              "      <td>T.PALUR</td>\n",
              "      <td>30423</td>\n",
              "      <td>30408</td>\n",
              "      <td>7379</td>\n",
              "      <td>288</td>\n",
              "      <td>22741</td>\n",
              "      <td>27340</td>\n",
              "      <td>36282</td>\n",
              "      <td>27339</td>\n",
              "      <td>36281.0</td>\n",
              "      <td>ARIYALUR</td>\n",
              "    </tr>\n",
              "  </tbody>\n",
              "</table>\n",
              "</div>"
            ],
            "text/plain": [
              "   State Name   Block Name  ...  Total persons allotted work  District Name\n",
              "0  TAMIL NADU    ANDIMADAM  ...                      36176.0       ARIYALUR\n",
              "1  TAMIL NADU     ARIYALUR  ...                      31768.0       ARIYALUR\n",
              "2  TAMIL NADU  JAYAMKONDAM  ...                      49993.0       ARIYALUR\n",
              "3  TAMIL NADU     SENDURAI  ...                      34615.0       ARIYALUR\n",
              "4  TAMIL NADU      T.PALUR  ...                      36281.0       ARIYALUR\n",
              "\n",
              "[5 rows x 12 columns]"
            ]
          },
          "metadata": {
            "tags": []
          },
          "execution_count": 2
        }
      ]
    },
    {
      "cell_type": "code",
      "metadata": {
        "id": "ildtGDUmDwkv",
        "colab_type": "code",
        "colab": {
          "base_uri": "https://localhost:8080/",
          "height": 340
        },
        "outputId": "18c823ec-e8cb-4cf1-c17c-79fec8710836"
      },
      "source": [
        "df.info()"
      ],
      "execution_count": 3,
      "outputs": [
        {
          "output_type": "stream",
          "text": [
            "<class 'pandas.core.frame.DataFrame'>\n",
            "RangeIndex: 758 entries, 0 to 757\n",
            "Data columns (total 12 columns):\n",
            " #   Column                                 Non-Null Count  Dtype  \n",
            "---  ------                                 --------------  -----  \n",
            " 0   State Name                             758 non-null    object \n",
            " 1   Block Name                             758 non-null    object \n",
            " 2   Total households applied for job card  758 non-null    int64  \n",
            " 3   Total job cards issued                 758 non-null    int64  \n",
            " 4   Total job cards (SC)                   758 non-null    int64  \n",
            " 5   Total job cards (ST)                   758 non-null    int64  \n",
            " 6   Total job cards (non-SC/ST)            758 non-null    int64  \n",
            " 7   Total households demanded work         758 non-null    int64  \n",
            " 8   Total persons demanded work            758 non-null    int64  \n",
            " 9   Total households allotted work         758 non-null    int64  \n",
            " 10  Total persons allotted work            682 non-null    float64\n",
            " 11  District Name                          682 non-null    object \n",
            "dtypes: float64(1), int64(8), object(3)\n",
            "memory usage: 71.2+ KB\n"
          ],
          "name": "stdout"
        }
      ]
    },
    {
      "cell_type": "code",
      "metadata": {
        "id": "YJBa267WDwk4",
        "colab_type": "code",
        "colab": {}
      },
      "source": [
        "X = df.drop('District Name',axis=1)\n",
        "y = df['District Name']"
      ],
      "execution_count": null,
      "outputs": []
    },
    {
      "cell_type": "code",
      "metadata": {
        "id": "6nj4AQhcDwlB",
        "colab_type": "code",
        "colab": {}
      },
      "source": [
        "from sklearn.model_selection import train_test_split\n",
        "X_train, X_test, y_train, y_test = train_test_split(X, y)"
      ],
      "execution_count": null,
      "outputs": []
    },
    {
      "cell_type": "code",
      "metadata": {
        "id": "9nImx2s1DwlK",
        "colab_type": "code",
        "colab": {}
      },
      "source": [
        "#Data Preprocessing\n",
        "from sklearn.preprocessing import StandardScaler"
      ],
      "execution_count": null,
      "outputs": []
    },
    {
      "cell_type": "code",
      "metadata": {
        "id": "p6WeV9GaDwlT",
        "colab_type": "code",
        "colab": {}
      },
      "source": [
        "scaler = StandardScaler()"
      ],
      "execution_count": null,
      "outputs": []
    },
    {
      "cell_type": "code",
      "metadata": {
        "id": "P1BsNKzmDwlc",
        "colab_type": "code",
        "colab": {},
        "outputId": "560e22c3-80fa-4b5e-9526-b677ec153c23"
      },
      "source": [
        "# Fit only to the training data\n",
        "scaler.fit(X_train)"
      ],
      "execution_count": null,
      "outputs": [
        {
          "output_type": "stream",
          "text": [
            "/home/prawin/anaconda3/lib/python3.7/site-packages/sklearn/preprocessing/data.py:645: DataConversionWarning: Data with input dtype int64, float64 were all converted to float64 by StandardScaler.\n",
            "  return self.partial_fit(X, y)\n"
          ],
          "name": "stderr"
        },
        {
          "output_type": "execute_result",
          "data": {
            "text/plain": [
              "StandardScaler(copy=True, with_mean=True, with_std=True)"
            ]
          },
          "metadata": {
            "tags": []
          },
          "execution_count": 8
        }
      ]
    },
    {
      "cell_type": "code",
      "metadata": {
        "id": "n_ZdtBVLDwlm",
        "colab_type": "code",
        "colab": {},
        "outputId": "8a68344f-b259-4666-c7fc-135c8ce399ff"
      },
      "source": [
        "StandardScaler(copy=True, with_mean=True, with_std=True)"
      ],
      "execution_count": null,
      "outputs": [
        {
          "output_type": "execute_result",
          "data": {
            "text/plain": [
              "StandardScaler(copy=True, with_mean=True, with_std=True)"
            ]
          },
          "metadata": {
            "tags": []
          },
          "execution_count": 9
        }
      ]
    },
    {
      "cell_type": "code",
      "metadata": {
        "id": "TQylgEToDwlu",
        "colab_type": "code",
        "colab": {},
        "outputId": "5fc232be-c52a-43cf-9e93-0d7d9aef3035"
      },
      "source": [
        "# Now apply the transformations to the data:\n",
        "X_train = scaler.transform(X_train)\n",
        "X_test = scaler.transform(X_test)"
      ],
      "execution_count": null,
      "outputs": [
        {
          "output_type": "stream",
          "text": [
            "/home/prawin/anaconda3/lib/python3.7/site-packages/ipykernel_launcher.py:2: DataConversionWarning: Data with input dtype int64, float64 were all converted to float64 by StandardScaler.\n",
            "  \n",
            "/home/prawin/anaconda3/lib/python3.7/site-packages/ipykernel_launcher.py:3: DataConversionWarning: Data with input dtype int64, float64 were all converted to float64 by StandardScaler.\n",
            "  This is separate from the ipykernel package so we can avoid doing imports until\n"
          ],
          "name": "stderr"
        }
      ]
    },
    {
      "cell_type": "code",
      "metadata": {
        "id": "vDsrNFA9Dwl4",
        "colab_type": "code",
        "colab": {},
        "outputId": "4a82ef58-56bc-4dce-ab5f-8d612634e58f"
      },
      "source": [
        "#naive_bayes Model\n",
        "from sklearn.naive_bayes import GaussianNB\n",
        "model = GaussianNB()\n",
        "model.fit(X_train, y_train)\n",
        "print(\"Accuracy of Naive Bayes: {:.2f}%\".format(model.score(X_train, y_train)*100))"
      ],
      "execution_count": null,
      "outputs": [
        {
          "output_type": "stream",
          "text": [
            "Accuracy of Naive Bayes: 66.08%\n"
          ],
          "name": "stdout"
        }
      ]
    },
    {
      "cell_type": "code",
      "metadata": {
        "id": "OR041CQcDwmA",
        "colab_type": "code",
        "colab": {},
        "outputId": "0615223d-9a90-4d95-ea1f-7ffe84ff3622"
      },
      "source": [
        "model.fit(X_train,y_train)"
      ],
      "execution_count": null,
      "outputs": [
        {
          "output_type": "execute_result",
          "data": {
            "text/plain": [
              "GaussianNB(priors=None, var_smoothing=1e-09)"
            ]
          },
          "metadata": {
            "tags": []
          },
          "execution_count": 12
        }
      ]
    },
    {
      "cell_type": "code",
      "metadata": {
        "id": "ssfDDz0tDwmJ",
        "colab_type": "code",
        "colab": {},
        "outputId": "35abdde9-160a-4ee4-d005-6c0fca2247a3"
      },
      "source": [
        "model.score(X_train,y_train)"
      ],
      "execution_count": null,
      "outputs": [
        {
          "output_type": "execute_result",
          "data": {
            "text/plain": [
              "0.6607929515418502"
            ]
          },
          "metadata": {
            "tags": []
          },
          "execution_count": 13
        }
      ]
    },
    {
      "cell_type": "code",
      "metadata": {
        "id": "q1G83L7gDwmQ",
        "colab_type": "code",
        "colab": {},
        "outputId": "b6e19426-3155-4520-b342-e6498ba3d0b9"
      },
      "source": [
        "predictions = model.predict(X_test)\n",
        "print(predictions)"
      ],
      "execution_count": null,
      "outputs": [
        {
          "output_type": "stream",
          "text": [
            "[1 1 3 3 2 0 3 3 0 0 3 3 0 1 0 0 0 3 2 2 2 0 0 3 4 0 1 1 0 0 2 0 2 0 3 1 1\n",
            " 1 0 0 2 0 3 1 0 2 0 1 2 1 3 0 3 0 0 0 0 0 2 0 0 3 0 0 2 0 1 1 1 0 1 2 0 0\n",
            " 3 3]\n"
          ],
          "name": "stdout"
        }
      ]
    },
    {
      "cell_type": "code",
      "metadata": {
        "id": "CO2WmK_fDwmZ",
        "colab_type": "code",
        "colab": {}
      },
      "source": [
        "import numpy as np # linear algebra\n",
        "import pandas as pd # data processing, CSV file I/O (e.g. pd.read_csv)\n",
        "import matplotlib.pyplot as plt\n",
        "from matplotlib import style\n",
        "style.use('fivethirtyeight')\n",
        "import sklearn\n",
        "from sklearn.linear_model import LinearRegression\n",
        "from sklearn.model_selection import train_test_split\n",
        "import seaborn as sns\n",
        "from sklearn import metrics"
      ],
      "execution_count": null,
      "outputs": []
    },
    {
      "cell_type": "code",
      "metadata": {
        "id": "MrDcfxEqDwmi",
        "colab_type": "code",
        "colab": {},
        "outputId": "91b8b0cd-7bf1-4cc3-9244-55a6503449c6"
      },
      "source": [
        "sns.distplot((y_test-predictions))"
      ],
      "execution_count": null,
      "outputs": [
        {
          "output_type": "execute_result",
          "data": {
            "text/plain": [
              "<matplotlib.axes._subplots.AxesSubplot at 0x7f538eacfac8>"
            ]
          },
          "metadata": {
            "tags": []
          },
          "execution_count": 16
        },
        {
          "output_type": "display_data",
          "data": {
            "image/png": "[encoded data removed]",
            "text/plain": [
              "<Figure size 432x288 with 1 Axes>"
            ]
          },
          "metadata": {
            "tags": []
          }
        }
      ]
    },
    {
      "cell_type": "code",
      "metadata": {
        "id": "S-vwwvFlDwmr",
        "colab_type": "code",
        "colab": {},
        "outputId": "4e0bb20e-6a47-492c-b67e-f69f5d70a398"
      },
      "source": [
        "print(metrics.mean_absolute_error(y_test,predictions))"
      ],
      "execution_count": null,
      "outputs": [
        {
          "output_type": "stream",
          "text": [
            "0.6842105263157895\n"
          ],
          "name": "stdout"
        }
      ]
    },
    {
      "cell_type": "code",
      "metadata": {
        "id": "zN-MDoBbDwm0",
        "colab_type": "code",
        "colab": {},
        "outputId": "8d7c186c-a04a-438a-ffea-47f02e6aafc2"
      },
      "source": [
        "print(metrics.mean_squared_error(y_test,predictions))"
      ],
      "execution_count": null,
      "outputs": [
        {
          "output_type": "stream",
          "text": [
            "1.0263157894736843\n"
          ],
          "name": "stdout"
        }
      ]
    },
    {
      "cell_type": "code",
      "metadata": {
        "id": "yigetARFDwm-",
        "colab_type": "code",
        "colab": {},
        "outputId": "ded84da0-d6af-4661-b86a-85f424d996ed"
      },
      "source": [
        "print(np.sqrt(metrics.mean_squared_error(y_test,predictions)))"
      ],
      "execution_count": null,
      "outputs": [
        {
          "output_type": "stream",
          "text": [
            "1.0130724502589556\n"
          ],
          "name": "stdout"
        }
      ]
    },
    {
      "cell_type": "code",
      "metadata": {
        "id": "doNJPXbvDwnH",
        "colab_type": "code",
        "colab": {}
      },
      "source": [
        "from sklearn.metrics import classification_report\n"
      ],
      "execution_count": null,
      "outputs": []
    },
    {
      "cell_type": "code",
      "metadata": {
        "id": "eENpeFzkDwnO",
        "colab_type": "code",
        "colab": {},
        "outputId": "52e3c293-b3be-4197-ae3d-e480763fb4a0"
      },
      "source": [
        "print(classification_report(y_test, predictions))"
      ],
      "execution_count": null,
      "outputs": [
        {
          "output_type": "stream",
          "text": [
            "              precision    recall  f1-score   support\n",
            "\n",
            "           0       0.85      0.76      0.80        37\n",
            "           1       0.27      0.25      0.26        16\n",
            "           2       0.17      0.20      0.18        10\n",
            "           3       0.13      0.25      0.17         8\n",
            "           4       0.00      0.00      0.00         5\n",
            "\n",
            "   micro avg       0.47      0.47      0.47        76\n",
            "   macro avg       0.28      0.29      0.28        76\n",
            "weighted avg       0.51      0.47      0.49        76\n",
            "\n"
          ],
          "name": "stdout"
        }
      ]
    },
    {
      "cell_type": "code",
      "metadata": {
        "id": "CUa-TqWNDwnW",
        "colab_type": "code",
        "colab": {}
      },
      "source": [
        ""
      ],
      "execution_count": null,
      "outputs": []
    }
  ]
}